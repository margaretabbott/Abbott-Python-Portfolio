{
 "cells": [
  {
   "cell_type": "markdown",
   "metadata": {},
   "source": [
    "# Intermediate SQL with SQLite in Python\n",
    "\n",
    "In this lesson, we will work with the **Sakila** database—a sample database originally created by MySQL and ported to SQLite. The Sakila database contains a rich schema (including tables such as `actor`, `film`, `film_actor`, etc.) that provides real-world data to explore advanced SQL techniques.\n",
    "\n",
    "### What You'll Learn:\n",
    "- How to connect to a SQLite database file (`sakila.db`) using Python's `sqlite3` module.\n",
    "- How to explore the Sakila database schema by listing tables and previewing data.\n",
    "- How to write SQL queries using JOINs, aggregate functions, GROUP BY, and HAVING.\n",
    "- How to apply these techniques with partner practice exercises.\n",
    "\n",
    "**Note:** Ensure the `sakila.db` file is in your working directory before running the notebook."
   ]
  },
  {
   "cell_type": "code",
   "execution_count": 1,
   "metadata": {},
   "outputs": [
    {
     "name": "stdout",
     "output_type": "stream",
     "text": [
      "Connected to SQLite Sakila database!\n"
     ]
    }
   ],
   "source": [
    "import sqlite3\n",
    "import pandas as pd\n",
    "\n",
    "# Set the path to the SQLite database\n",
    "db_path = \"sakila.db\"\n",
    "\n",
    "# Connect to SQLite database\n",
    "conn = sqlite3.connect(db_path)\n",
    "print(\"Connected to SQLite Sakila database!\")"
   ]
  },
  {
   "cell_type": "markdown",
   "metadata": {},
   "source": [
    "### Exploring the Database Schema\n",
    "\n",
    "Before diving into queries, it's useful to know which tables are available in the Sakila database. We'll list all tables by querying the SQLite master table."
   ]
  },
  {
   "cell_type": "code",
   "execution_count": 2,
   "metadata": {},
   "outputs": [
    {
     "name": "stdout",
     "output_type": "stream",
     "text": [
      "Tables in the database:\n",
      "Empty DataFrame\n",
      "Columns: [name]\n",
      "Index: []\n"
     ]
    }
   ],
   "source": [
    "# List all tables in the database\n",
    "tables = pd.read_sql(\"\"\"SELECT name \n",
    "                        FROM sqlite_master \n",
    "                        WHERE type='table';\"\"\", conn)\n",
    "\n",
    "print(\"Tables in the database:\")\n",
    "print(tables)"
   ]
  },
  {
   "cell_type": "markdown",
   "metadata": {},
   "source": [
    "### Viewing Sample Data from the 'actor' Table\n",
    "\n",
    "Let's preview a few rows from the `actor` table to see what kind of data it holds.\n",
    "\n",
    "Select the following columns:\n",
    "- actor_id\n",
    "- first_name\n",
    "- last_name\n",
    "\n",
    "Connect two string columns with || ' ' || and create an alias with \"AS\""
   ]
  },
  {
   "cell_type": "code",
   "execution_count": null,
   "metadata": {},
   "outputs": [],
   "source": [
    "# Define SQL query to fetch the first 5 rows from the actor table.\n",
    "query_actor = \"\"\"\n",
    "\n",
    "              \"\"\"\n",
    "\n",
    "# Execute the query using pd.read_sql.\n",
    "df_actor = pd.read_sql(query_actor, conn)\n",
    "\n",
    "print(\"Sample rows from the 'actor' table:\")\n",
    "print(df_actor)"
   ]
  },
  {
   "cell_type": "markdown",
   "metadata": {},
   "source": [
    "### Viewing Sample Data from the 'film' Table\n",
    "\n",
    "Let's preview a few rows from the `film` table to see what kind of data it holds.\n",
    "\n",
    "Select the following columns:\n",
    "- film_id\n",
    "- title\n",
    "- length\n",
    "- rating"
   ]
  },
  {
   "cell_type": "code",
   "execution_count": null,
   "metadata": {},
   "outputs": [],
   "source": [
    "# Define SQL query to fetch the first 5 rows from the actor table.\n",
    "query_film = \"\"\"\n",
    "\n",
    "             \"\"\"\n",
    "\n",
    "# Execute the query using pd.read_sql.\n",
    "df_film = pd.read_sql(query_film, conn)\n",
    "\n",
    "print(\"Sample rows from the 'film' table:\")\n",
    "print(df_film)"
   ]
  },
  {
   "cell_type": "markdown",
   "metadata": {},
   "source": [
    "### Viewing Sample Data from the 'film_actor' Table\n",
    "\n",
    "Let's preview a few rows from the `film_actor` table to see what kind of data it holds.\n",
    "\n",
    "Select all columns."
   ]
  },
  {
   "cell_type": "code",
   "execution_count": null,
   "metadata": {},
   "outputs": [],
   "source": [
    "# Define SQL query to fetch the first 5 rows from the actor table.\n",
    "query_film_actor = \"\"\"\n",
    "\n",
    "                   \"\"\"\n",
    "\n",
    "# Execute the query using pd.read_sql.\n",
    "df_film_actor = pd.read_sql(query_film_actor, conn)\n",
    "\n",
    "print(\"Sample rows from the 'film' table:\")\n",
    "print(df_film_actor)"
   ]
  },
  {
   "cell_type": "markdown",
   "metadata": {},
   "source": [
    "### JOIN Query: Actors and Their Films\n",
    "\n",
    "Next, we'll join three tables—`actor`, `film_actor`, and `film`—to list film titles along with the full names of actors who appear in them.\n",
    "\n",
    "- **Tables Involved:**\n",
    "  - `actor`: Contains actor details.\n",
    "  - `film_actor`: A bridge table linking actors to films.\n",
    "  - `film`: Contains film details.\n",
    "\n",
    "The join connects:\n",
    "- `actor.actor_id` with `film_actor.actor_id`\n",
    "- `film_actor.film_id` with `film.film_id`\n",
    "\n",
    "Let's see the first 10 actor-film associations."
   ]
  },
  {
   "cell_type": "code",
   "execution_count": null,
   "metadata": {},
   "outputs": [],
   "source": [
    "# Define SQL query for actor-film associations.\n",
    "join_query = \"\"\"\n",
    "\n",
    "             \"\"\"\n",
    "\n",
    "# Execute the query using pd.read_sql.\n",
    "df_join = pd.read_sql(join_query, conn)\n",
    "\n",
    "print(\"Actor - Film Associations (first 10 rows):\")\n",
    "print(df_join)"
   ]
  },
  {
   "cell_type": "markdown",
   "metadata": {},
   "source": [
    "### Aggregation Query: Counting Actors per Film\n",
    "\n",
    "Now, we'll count the number of actors featured in each film. This query uses:\n",
    "- **JOIN:** To connect `film` and `film_actor`.\n",
    "- **GROUP BY:** To group data by film title.\n",
    "- **HAVING:** To filter films with more than 3 actors.\n",
    "\n",
    "This helps identify films with larger casts."
   ]
  },
  {
   "cell_type": "code",
   "execution_count": null,
   "metadata": {},
   "outputs": [],
   "source": [
    "# Define SQL query for counting actors per film.\n",
    "agg_query = \"\"\"\n",
    "\n",
    "            \"\"\"\n",
    "\n",
    "# Execute the query using pd.read_sql.\n",
    "df_agg = pd.read_sql(agg_query, conn)\n",
    "\n",
    "print(\"Films with more than 3 actors (top 10):\")\n",
    "print(df_agg)"
   ]
  },
  {
   "cell_type": "markdown",
   "metadata": {},
   "source": [
    "# Group Exercises\n",
    "- Find a neighbor, yes, move around and make a new friend!\n",
    "- Work through the following practice exercises together."
   ]
  },
  {
   "cell_type": "markdown",
   "metadata": {},
   "source": [
    "# Partner Practice Exercise\n",
    "\n",
    "Now that we've seen several examples of JOINs and aggregation queries, it's time for you to practice with a partner. Complete the following tasks using the Sakila database:\n",
    "\n",
    "1. **Task 1: Write a JOIN Query**\n",
    "   - Write a query to retrieve a list of films along with the full names of the actors (first and last name) who acted in them.\n",
    "   - *Hint:* Join the `film`, `film_actor`, and `actor` tables. Use string concatenation (e.g., `first_name || ' ' || last_name`) for full names.\n",
    "\n",
    "2. **Task 2: Write an Aggregation Query**\n",
    "   - Write a query to find the average film length for each film category.\n",
    "   - *Hint:* Join the `film`, `film_category`, and `category` tables, then use the `AVG()` function with `GROUP BY`.\n",
    "\n",
    "3. **Task 3: Challenge Task (Optional)**\n",
    "   - Combine your results: Write a query to list film titles, the count of actors in each film, and the film category. Filter to show only films with more than 5 actors.\n",
    "   - *Hint:* You might need to use multiple joins and group by both film title and category.\n",
    "\n",
    "Discuss your approaches with your partner, compare your results, and be ready to review a few solutions as a class."
   ]
  },
  {
   "cell_type": "code",
   "execution_count": null,
   "metadata": {},
   "outputs": [],
   "source": [
    "# Task 1: Retrieve a list of films along with the full names of the actors.\n",
    "task1_query = \"\"\"\n",
    "\n",
    "              \"\"\"\n",
    "\n",
    "# Execute the query using pd.read_sql.\n",
    "df_task1 = pd.read_sql(task1_query, conn)\n",
    "\n",
    "print(\"Task 1: Films with Actor Full Names (first 20 rows):\")\n",
    "print(df_task1)"
   ]
  },
  {
   "cell_type": "code",
   "execution_count": null,
   "metadata": {},
   "outputs": [],
   "source": [
    "# Task 2: Find the average film length for each film category.\n",
    "task2_query = \"\"\"\n",
    "\n",
    "              \"\"\"\n",
    "\n",
    "# Execute the query using pd.read_sql.\n",
    "df_task2 = pd.read_sql(task2_query, conn)\n",
    "\n",
    "print(\"Task 2: Average Film Length per Category:\")\n",
    "print(df_task2)"
   ]
  },
  {
   "cell_type": "code",
   "execution_count": null,
   "metadata": {},
   "outputs": [],
   "source": [
    "# Task 3: List film titles, count of actors, and film category for films with more than 5 actors.\n",
    "task3_query = \"\"\"\n",
    "\n",
    "            \"\"\"\n",
    "\n",
    "# Execute the query using pd.read_sql.\n",
    "df_task3 = pd.read_sql(task3_query, conn)\n",
    "\n",
    "print(\"Task 3: Films with more than 5 Actors (showing film title, actor count, category):\")\n",
    "print(df_task3)"
   ]
  },
  {
   "cell_type": "markdown",
   "metadata": {},
   "source": [
    "## Close the connection to the database.\n",
    "Always close the connection when you're done to free up resources."
   ]
  },
  {
   "cell_type": "code",
   "execution_count": 24,
   "metadata": {},
   "outputs": [],
   "source": [
    "# Close the connection\n",
    "#conn.close()"
   ]
  }
 ],
 "metadata": {
  "kernelspec": {
   "display_name": "base",
   "language": "python",
   "name": "python3"
  },
  "language_info": {
   "codemirror_mode": {
    "name": "ipython",
    "version": 3
   },
   "file_extension": ".py",
   "mimetype": "text/x-python",
   "name": "python",
   "nbconvert_exporter": "python",
   "pygments_lexer": "ipython3",
   "version": "3.12.7"
  }
 },
 "nbformat": 4,
 "nbformat_minor": 2
}
