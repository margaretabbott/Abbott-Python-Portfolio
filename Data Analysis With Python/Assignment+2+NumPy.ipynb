{
 "cells": [
  {
   "cell_type": "markdown",
   "metadata": {
    "slideshow": {
     "slide_type": ""
    },
    "tags": []
   },
   "source": [
    "# Assignment 2 NumPy"
   ]
  },
  {
   "cell_type": "markdown",
   "metadata": {
    "slideshow": {
     "slide_type": ""
    },
    "tags": []
   },
   "source": [
    "<div class=\"alert alert-success\">There are 6 problems worth 5 points each in this assignment. You are expected to complete and submit your work on time.\n",
    "<br>\n",
    "<ul>\n",
    "<li>To submit your work, click on the <samp><b>Submit</b></samp> button on the top right navigation pane. Confirm that you want to submit by clicking <samp><b>Yes</b></samp> on the pop-up. </li>\n",
    "<br>\n",
    "<li>You can verify the status of the submission by clicking the <samp><b>Details</b></samp> button on the top right navigation pane.</li>\n",
    "<br>\n",
    "<li>You can also see grade details by clicking on the <samp><b>Grades</b></samp> button once the grade is released.</li>\n",
    "</ul>\n",
    "</div>"
   ]
  },
  {
   "cell_type": "markdown",
   "metadata": {
    "deletable": false,
    "editable": false,
    "id": "pGxfUTgbfqHw",
    "nbgrader": {
     "grade": false,
     "locked": true,
     "solution": false
    },
    "slideshow": {
     "slide_type": ""
    },
    "tags": []
   },
   "source": [
    "## Problem 1\n",
    "You have been tasked with sorting out the profit data for a company. Write a Python program to complete the following tasks:\n",
    "+ The given `profit_list` stores the quarterly profits in 2022 and 2021. Create a 4 x 2 Numpy array named `partial_profit` from it. Print `partial_profit` and its dimension, shape, and size.\n",
    "+ Create a new Numpy array named `profit` by adding the given `profit_2020` as the last column to  `partial_profit`. As a result, `profit` represents the following table:\n",
    "\n",
    "|      |   2022  |2021   |2020  |\n",
    "|-----------------|---------------------|---------------------|---------------------|\n",
    "| Q1| 1141|1128 | 1137 | \n",
    "| Q2| 1092| 1182 | 1083 | \n",
    "| Q3| 1088|1017 | 1149|\n",
    "| Q4| 1084| 1123 | 1015 |\n",
    "\n",
    "+ Print `profit` along with its shape and size."
   ]
  },
  {
   "cell_type": "code",
   "execution_count": 1,
   "metadata": {
    "colab": {
     "base_uri": "https://localhost:8080/"
    },
    "executionInfo": {
     "elapsed": 546,
     "status": "ok",
     "timestamp": 1685458621105,
     "user": {
      "displayName": "Hannah Edwards",
      "userId": "03407661138711167567"
     },
     "user_tz": 240
    },
    "id": "UiWXZWgLfqHw",
    "outputId": "89f62879-4d85-47c9-b738-8c1f2cadb1b7"
   },
   "outputs": [
    {
     "name": "stdout",
     "output_type": "stream",
     "text": [
      "Diamension: 2\n",
      "Shape: (4, 2)\n",
      "Size: 8\n",
      "[[1141 1128]\n",
      " [1092 1182]\n",
      " [1088 1017]\n",
      " [1084 1123]]\n"
     ]
    }
   ],
   "source": [
    "profit_list = [1141, 1128, 1092, 1182, 1088, 1017, 1084, 1123]\n",
    "profit_2020 = [[1137], [1083], [1149], [1015]]\n",
    "\n",
    "###\n",
    "### YOUR CODE HERE\n",
    "###\n",
    "import numpy as np\n",
    "partial_profit = np.array(profit_list)\n",
    "partial_profit = np.reshape(partial_profit,(4,2))\n",
    "print(\"Diamension:\", partial_profit.ndim)\n",
    "print(\"Shape:\", partial_profit.shape)\n",
    "print(\"Size:\", partial_profit.size)\n",
    "print(partial_profit)"
   ]
  },
  {
   "cell_type": "code",
   "execution_count": 2,
   "metadata": {},
   "outputs": [
    {
     "name": "stdout",
     "output_type": "stream",
     "text": [
      "Shape: (4, 3)\n",
      "Size: 12\n",
      "[[1141 1128 1137]\n",
      " [1092 1182 1083]\n",
      " [1088 1017 1149]\n",
      " [1084 1123 1015]]\n"
     ]
    }
   ],
   "source": [
    "profit = np.append(partial_profit,profit_2020,axis=1)\n",
    "print(\"Shape:\", profit.shape)\n",
    "print(\"Size:\", profit.size)\n",
    "print(profit)"
   ]
  },
  {
   "cell_type": "markdown",
   "metadata": {
    "id": "1ayM3nkpugD8",
    "slideshow": {
     "slide_type": ""
    },
    "tags": []
   },
   "source": [
    "## Problem 2\n",
    "\n",
    "You have been tasked with analyzing the sales of a company. Write a Python program to complete the following tasks:\n",
    "+ Create a 3 x 4 2D NumPy array named `sales_array` from the given `sales_list` so it represents the following table:\n",
    "\n",
    "|      |   Q1      |   Q2  |Q3  |Q4  |\n",
    "|-----------------|---------------------|---------------------|---------------------|---------------------|\n",
    "| 2021| 1982.5| 1867.8 | 1886 |1896.5|\n",
    "| 2022| 1815.6| 1862 | 1840.5 |1879.8|\n",
    "| 2023| 1826.5| 1832 | 1898.8 |1864.6| \n",
    "\n",
    "+ Print `sales_array`.\n",
    "+ Calculate the sum for each row in `sales_array`, assign the result to a variable named `sales_sum_by_year`, and print it.\n",
    "+ Calculate the average for each column in `sales_array`, assign the result (rounded to 1 decimal place) to a variable named `sales_avg_by_quarter`, and print it.\n",
    "+ Find the maximum and minimum values in `sales_array` and print a message stating your results."
   ]
  },
  {
   "cell_type": "code",
   "execution_count": 3,
   "metadata": {
    "colab": {
     "base_uri": "https://localhost:8080/"
    },
    "executionInfo": {
     "elapsed": 186,
     "status": "ok",
     "timestamp": 1719409704951,
     "user": {
      "displayName": "Xiaojing Duan",
      "userId": "15747805203725603943"
     },
     "user_tz": 240
    },
    "id": "8i3HKJRvugD8",
    "jupyter": {
     "outputs_hidden": true
    },
    "outputId": "2633aaf5-71bd-47a2-da7e-096ef0f8be12",
    "scrolled": true,
    "slideshow": {
     "slide_type": ""
    },
    "tags": []
   },
   "outputs": [
    {
     "name": "stdout",
     "output_type": "stream",
     "text": [
      "[[1982.5 1867.8 1886.  1896.5]\n",
      " [1815.6 1862.  1840.5 1879.8]\n",
      " [1826.5 1832.  1898.8 1864.6]]\n"
     ]
    }
   ],
   "source": [
    "sales_list = [1982.5, 1867.8, 1886, 1896.5, 1815.6, 1862, 1840.5, 1879.8, 1826.5, 1832, 1898.8, 1864.6]\n",
    "\n",
    "###\n",
    "### YOUR CODE HERE\n",
    "###\n",
    "sales_array = np.array(sales_list)\n",
    "sales_array = np.reshape(sales_array,(3,4))\n",
    "print(sales_array)"
   ]
  },
  {
   "cell_type": "code",
   "execution_count": 4,
   "metadata": {},
   "outputs": [
    {
     "name": "stdout",
     "output_type": "stream",
     "text": [
      "[7632.8 7397.9 7421.9]\n"
     ]
    }
   ],
   "source": [
    "sales_sum_by_year = np.sum(sales_array, axis=1)\n",
    "print(sales_sum_by_year)"
   ]
  },
  {
   "cell_type": "code",
   "execution_count": 5,
   "metadata": {
    "scrolled": false
   },
   "outputs": [
    {
     "name": "stdout",
     "output_type": "stream",
     "text": [
      "[1874.9 1853.9 1875.1 1880.3]\n"
     ]
    }
   ],
   "source": [
    "sales_avg_by_quarter = np.mean(sales_array, axis=0).round(1)\n",
    "print(sales_avg_by_quarter)"
   ]
  },
  {
   "cell_type": "code",
   "execution_count": 6,
   "metadata": {},
   "outputs": [
    {
     "name": "stdout",
     "output_type": "stream",
     "text": [
      "The maximum sales value is 1982.5\n"
     ]
    }
   ],
   "source": [
    "sales_max = np.max(sales_array)\n",
    "print(\"The maximum sales value is\", sales_max)"
   ]
  },
  {
   "cell_type": "code",
   "execution_count": 7,
   "metadata": {},
   "outputs": [
    {
     "name": "stdout",
     "output_type": "stream",
     "text": [
      "The minimum sales value is 1815.6\n"
     ]
    }
   ],
   "source": [
    "sales_min = np.min(sales_array)\n",
    "print(\"The minimum sales value is\", sales_min)"
   ]
  },
  {
   "cell_type": "markdown",
   "metadata": {
    "id": "w4ILRqP8kaBp",
    "slideshow": {
     "slide_type": ""
    },
    "tags": []
   },
   "source": [
    "## Problem 3\n",
    "\n",
    "You have been tasked with calculating the Return on Investment (ROI) of different assets in a portfolio. Write a Python program to complete the following tasks:\n",
    "+ The portfolio contains four assets and their weights are 60%, 30%, 2.5%, 7.5%, respectively. Create a 1D NumPy array named `init_weight` with those values. Print `init_weight`.\n",
    "+ Suppose the initial total investment is $5,000. Create a 1D NumPy array named `init_invest` with the inital investment for each assest. Print `init_invest`.\n",
    "+ Suppose the final values of those assets become 3428, 1686, 137, 328. Create a 1D array named `final_value` with those values. Print `final_value`.\n",
    "+ Calculate the ROI (rounded to  1 decimal place) for each asset and store the results in a NumPy arrary named `roi`. Print `roi`.\n",
    "\n",
    "**Note**: The formula for ROI is denoted below:\n",
    "$$ROI = \\frac {(FVI - IVI)} {IVI} * 100 $$\n",
    "where:\n",
    "+ $FVI$ is the final value of investment\n",
    "+ $IVI$ is the initial value of investment"
   ]
  },
  {
   "cell_type": "code",
   "execution_count": 8,
   "metadata": {
    "colab": {
     "base_uri": "https://localhost:8080/"
    },
    "executionInfo": {
     "elapsed": 155,
     "status": "ok",
     "timestamp": 1719410317055,
     "user": {
      "displayName": "Xiaojing Duan",
      "userId": "15747805203725603943"
     },
     "user_tz": 240
    },
    "id": "fPoM_U76lqUG",
    "outputId": "7c33b81e-d795-4b55-e032-5237ed55533d",
    "slideshow": {
     "slide_type": ""
    },
    "tags": []
   },
   "outputs": [
    {
     "name": "stdout",
     "output_type": "stream",
     "text": [
      "Initial weight: [0.6   0.3   0.025 0.075]\n"
     ]
    }
   ],
   "source": [
    "###\n",
    "### YOUR CODE HERE\n",
    "###\n",
    "init_weight_list = ([0.6,0.3,0.025,0.075])\n",
    "init_weight = np.array(init_weight_list)\n",
    "print(\"Initial weight:\",init_weight)"
   ]
  },
  {
   "cell_type": "code",
   "execution_count": 9,
   "metadata": {},
   "outputs": [
    {
     "name": "stdout",
     "output_type": "stream",
     "text": [
      "Inital investment: [3000. 1500.  125.  375.]\n"
     ]
    }
   ],
   "source": [
    "init_invest = init_weight*5000\n",
    "print(\"Inital investment:\",init_invest)"
   ]
  },
  {
   "cell_type": "code",
   "execution_count": 10,
   "metadata": {},
   "outputs": [
    {
     "name": "stdout",
     "output_type": "stream",
     "text": [
      "Final values: [3428 1686  137  328]\n"
     ]
    }
   ],
   "source": [
    "final_value_list = ([3428,1686,137,328])\n",
    "final_value = np.array(final_value_list)\n",
    "print(\"Final values:\",final_value)"
   ]
  },
  {
   "cell_type": "code",
   "execution_count": 11,
   "metadata": {},
   "outputs": [
    {
     "name": "stdout",
     "output_type": "stream",
     "text": [
      "ROI: [ 14.3  12.4   9.6 -12.5]\n"
     ]
    }
   ],
   "source": [
    "roi = (((final_value-init_invest)/(init_invest))*100).round(1)\n",
    "print(\"ROI:\",roi)"
   ]
  },
  {
   "cell_type": "markdown",
   "metadata": {
    "id": "GNGUmYUiU9h3"
   },
   "source": [
    "## Problem 4\n",
    "\n",
    "You have been tasked with calculating the revenue for a subscription-based online streaming service. Write a Python program to complete the following tasks:\n",
    "\n",
    "+ The predicted number of subscribers for the next 6 month are stored in the given `sub_count_list`. Create a 1D NumPy array named `sub_count_array` from `sub_count_list`.\n",
    "+ The monthly subscription fee is $12. Calculate the monthly revenue based on the subscription and store the results in a NumPy array named `monthly_revenue` and print it.\n",
    "+ Calculate the average monthly revenue and print a message stating your result.\n",
    "+ Calculate the Z-Score normailzed monthly revenue and store the results in a NumPy array named `zscore_monthly_revenue` and print it.\n",
    "\n",
    "**Note**: Given a sequence of values $X$, the Z-Score normalized value ($y_i$) of each value in $X$ ($x_i$) is calculated as:\n",
    "\n",
    "\\begin{align*}\n",
    "y_i =\\frac{(x_i - μ)}{σ}\n",
    "\\end{align*}\n",
    "where:\n",
    "+ $μ$ is the mean of $X$\n",
    "+ $σ$ is the standard deviation of $X$"
   ]
  },
  {
   "cell_type": "code",
   "execution_count": 12,
   "metadata": {
    "colab": {
     "base_uri": "https://localhost:8080/"
    },
    "executionInfo": {
     "elapsed": 174,
     "status": "ok",
     "timestamp": 1719521841755,
     "user": {
      "displayName": "Xiaojing Duan",
      "userId": "15747805203725603943"
     },
     "user_tz": 240
    },
    "id": "te88eLXWUVaf",
    "outputId": "552e1555-d730-41bb-ab87-7ada195c61c4"
   },
   "outputs": [
    {
     "name": "stdout",
     "output_type": "stream",
     "text": [
      "Monthly revenue: [27756 31920 36708 42204 48540 55824]\n"
     ]
    }
   ],
   "source": [
    "sub_count_list = [2313, 2660, 3059, 3517, 4045, 4652]\n",
    "\n",
    "###\n",
    "### YOUR CODE HERE\n",
    "###\n",
    "sub_count_array = np.array(sub_count_list)\n",
    "monthly_revenue = sub_count_array*12\n",
    "print(\"Monthly revenue:\",monthly_revenue)"
   ]
  },
  {
   "cell_type": "code",
   "execution_count": 13,
   "metadata": {},
   "outputs": [
    {
     "name": "stdout",
     "output_type": "stream",
     "text": [
      "The average monthly revenue is 40492.0\n"
     ]
    }
   ],
   "source": [
    "average_revenue = np.mean(monthly_revenue)\n",
    "print(\"The average monthly revenue is\", average_revenue)"
   ]
  },
  {
   "cell_type": "code",
   "execution_count": 14,
   "metadata": {},
   "outputs": [
    {
     "name": "stdout",
     "output_type": "stream",
     "text": [
      "The Zscore of monthly revenue is [-1.32688864 -0.89306607 -0.39423262  0.17836317  0.8384736   1.59735055]\n"
     ]
    }
   ],
   "source": [
    "std_revenue = np.std(monthly_revenue)\n",
    "zscore_monthly_revenue = ((monthly_revenue-average_revenue)/(std_revenue))\n",
    "print(\"The Zscore of monthly revenue is\", zscore_monthly_revenue)"
   ]
  },
  {
   "cell_type": "markdown",
   "metadata": {
    "id": "elkKClgrotup"
   },
   "source": [
    "## Problem 5\n",
    "\n",
    "You have been tasked with helping a small retail store simulate the sales of a particular product over a period of 30 days to forecast future sales and plan inventory management. Write a Python program to complete the following tasks:\n",
    "+ The historical data suggests the sales follow a normal distribution with average of 60 units per day and standard deviation of 2 units per day. Create a 1D NumPy array named `sim_sales` with the simulated sales (integer format) for each day. Print `sim_sales`.\n",
    "+ Calculate the sum of the simulated sales and print a message stating your result.\n",
    "\n",
    "\n",
    "**Note**: Ensure your simulated sales are reproducible.\n"
   ]
  },
  {
   "cell_type": "code",
   "execution_count": 21,
   "metadata": {
    "colab": {
     "base_uri": "https://localhost:8080/"
    },
    "executionInfo": {
     "elapsed": 172,
     "status": "ok",
     "timestamp": 1719411751516,
     "user": {
      "displayName": "Xiaojing Duan",
      "userId": "15747805203725603943"
     },
     "user_tz": 240
    },
    "id": "73LtGyo2otup",
    "jupyter": {
     "outputs_hidden": true
    },
    "outputId": "8a615238-5300-4825-9a34-fca623573274",
    "slideshow": {
     "slide_type": ""
    },
    "tags": []
   },
   "outputs": [
    {
     "name": "stdout",
     "output_type": "stream",
     "text": [
      "[60 59 61 63 59 59 63 61 59 61 59 59 60 56 56 58 57 60 58 57 62 59 60 57\n",
      " 58 60 57 60 58 59]\n"
     ]
    }
   ],
   "source": [
    "###\n",
    "### YOUR CODE HERE\n",
    "###\n",
    "np.random.seed(42)\n",
    "sim_sales = np.random.normal(60,2,30).astype(int)\n",
    "print(sim_sales)"
   ]
  },
  {
   "cell_type": "code",
   "execution_count": 20,
   "metadata": {},
   "outputs": [
    {
     "name": "stdout",
     "output_type": "stream",
     "text": [
      "The sum of the forcasted sales is $ 1775\n"
     ]
    }
   ],
   "source": [
    "sim_sales_sum = np.sum(sim_sales)\n",
    "print(\"The sum of the forcasted sales is $\",sim_sales_sum)"
   ]
  },
  {
   "cell_type": "markdown",
   "metadata": {
    "id": "bbe7UgFvEqVe"
   },
   "source": [
    "## Problem 6\n",
    "You have been tasked with predicting the cumulative daily value of investing $5,000 in a stock using a Monte Carlo simulation. Write a Python program to complete the following tasks:\n",
    "+ Suppose the stock's daily return follows a normal distribution with an average return of 0.04% and a standard deviation (volatility) of 0.05.\n",
    "+ Simulate the cumulative daily value of the investment over the next 30 days. Run the simulation 5 times. Your result should be a 2-D array with the shape of (5, 30). \n",
    "+ Create a line plot to visualize your simulation result. The plot should contain 5 lines, each representing one of the 5 simulated outcomes. Label your plot title, x- and y-axis properly.\n",
    "\n",
    "**Note**: Ensure your simulation is reproducible."
   ]
  },
  {
   "cell_type": "code",
   "execution_count": 22,
   "metadata": {
    "collapsed": true,
    "id": "drChLuorErJx"
   },
   "outputs": [],
   "source": [
    "###\n",
    "### YOUR CODE HERE\n",
    "###\n",
    "np.random.seed(42)\n",
    "sim_cnt = 5\n",
    "num_days = 30\n",
    "sim_rets = np.random.normal(0.0004,0.05,(sim_cnt,num_days))\n",
    "cum_rets = np.cumprod(1+sim_rets,axis=1)\n",
    "cum_fvi = 1000*cum_rets"
   ]
  },
  {
   "cell_type": "code",
   "execution_count": 23,
   "metadata": {},
   "outputs": [
    {
     "data": {
      "image/png": "[encoded data removed]",
      "text/plain": [
       "<Figure size 720x576 with 1 Axes>"
      ]
     },
     "metadata": {
      "needs_background": "light"
     },
     "output_type": "display_data"
    }
   ],
   "source": [
    "import matplotlib.pyplot as plt\n",
    "plt.figure(figsize = (10, 8))\n",
    "for n in np.arange(0, sim_cnt):\n",
    "    plt.plot(np.arange(1, num_days + 1), cum_fvi[n])\n",
    "plt.title(\"Investment Value Over Time\")\n",
    "plt.xlabel(\"Years\")\n",
    "plt.ylabel(\"Investment Value ($\")\n",
    "plt.grid(True)\n",
    "plt.show()"
   ]
  }
 ],
 "metadata": {
  "kernelspec": {
   "display_name": "Python 3 [3.7]",
   "language": "python",
   "name": "python3"
  },
  "language_info": {
   "codemirror_mode": {
    "name": "ipython",
    "version": 3
   },
   "file_extension": ".py",
   "mimetype": "text/x-python",
   "name": "python",
   "nbconvert_exporter": "python",
   "pygments_lexer": "ipython3",
   "version": "3.7.5"
  }
 },
 "nbformat": 4,
 "nbformat_minor": 5
}
