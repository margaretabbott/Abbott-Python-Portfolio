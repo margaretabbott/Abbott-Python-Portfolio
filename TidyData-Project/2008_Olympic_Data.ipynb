{
 "cells": [
  {
   "cell_type": "code",
   "execution_count": null,
   "metadata": {},
   "outputs": [],
   "source": [
    "## Importing The Data:\n",
    "import pandas as pd \n",
    "olympics_2008=pd.read_csv(\"TidyData-Project/olympics_08_medalists.csv\")\n",
    "print(\"This is the original untidied/unclensed 2008 olympic medalist data:\")\n",
    "print(olympics_2008)"
   ]
  },
  {
   "cell_type": "markdown",
   "metadata": {},
   "source": [
    "The original data is in wide format, so we should reshape it to be long format"
   ]
  }
 ],
 "metadata": {
  "kernelspec": {
   "display_name": "base",
   "language": "python",
   "name": "python3"
  },
  "language_info": {
   "name": "python",
   "version": "3.12.7"
  }
 },
 "nbformat": 4,
 "nbformat_minor": 2
}
